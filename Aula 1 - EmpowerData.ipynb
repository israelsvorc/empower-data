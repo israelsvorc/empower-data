{
 "cells": [
  {
   "cell_type": "markdown",
   "id": "368a9445",
   "metadata": {},
   "source": [
    "# Criando as variáveis"
   ]
  },
  {
   "cell_type": "code",
   "execution_count": 7,
   "id": "babde6ed",
   "metadata": {
    "scrolled": true
   },
   "outputs": [
    {
     "data": {
      "text/plain": [
       "'ok'"
      ]
     },
     "execution_count": 7,
     "metadata": {},
     "output_type": "execute_result"
    }
   ],
   "source": [
    "from fpdf import FPDF #importando biblioteca que faz manipulação no PDF\n",
    "from tkinter import messagebox as msg #usar a msgbox para avisos\n",
    "from tkinter import simpledialog as msgdialog #usar caixa de dialogo para armazenar os inputs\n",
    "\n",
    "#Input nos valores\n",
    "\n",
    "projeto = msgdialog.askstring('Projeto','Digite a descrição do projeto: ')\n",
    "horas_previstas = msgdialog.askstring('Previsão','Digite a quantidade de horas previstas: ')\n",
    "valor_hora_trabalhada =  msgdialog.askstring('Horas Trabalhadas','Digite as horas trabalhadas: ')\n",
    "prazo = msgdialog.askstring('Prazo','Digite o prazo estimado: ')\n",
    "total = int(horas_previstas) * int(valor_hora_trabalhada)\n",
    "\n",
    "\n",
    "# gerando o PDF\n",
    "pdf = FPDF() \n",
    "pdf.add_page() \n",
    "\n",
    "#posições dos inputs no PDF\n",
    "\n",
    "pdf.image('template.png', x= 0, y = 0)\n",
    "pdf.set_font('Arial')\n",
    "pdf.text(115, 145, projeto) \n",
    "pdf.text(115, 160, horas_previstas) \n",
    "pdf.text(115, 175, valor_hora_trabalhada) \n",
    "pdf.text(115, 190, prazo) \n",
    "pdf.text(115, 205, str(total)) \n",
    "\n",
    "#Geração do PDF\n",
    "pdf.output('Orçamento.pdf')\n",
    "\n",
    "\n",
    "#Mensagem conclusão\n",
    "msg.showinfo('Concluído', 'Orçamento gerado com sucesso!')\n"
   ]
  },
  {
   "cell_type": "code",
   "execution_count": null,
   "id": "31c60a81",
   "metadata": {},
   "outputs": [],
   "source": []
  }
 ],
 "metadata": {
  "kernelspec": {
   "display_name": "Python 3 (ipykernel)",
   "language": "python",
   "name": "python3"
  },
  "language_info": {
   "codemirror_mode": {
    "name": "ipython",
    "version": 3
   },
   "file_extension": ".py",
   "mimetype": "text/x-python",
   "name": "python",
   "nbconvert_exporter": "python",
   "pygments_lexer": "ipython3",
   "version": "3.11.4"
  }
 },
 "nbformat": 4,
 "nbformat_minor": 5
}
